{
 "cells": [
  {
   "cell_type": "markdown",
   "metadata": {},
   "source": [
    "## Failure ratio of master jobs\n",
    "Jobs initiated in an interval of one hour over the last 14 days"
   ]
  },
  {
   "cell_type": "code",
   "execution_count": 1,
   "metadata": {},
   "outputs": [],
   "source": [
    "%matplotlib inline\n",
    "import sys\n",
    "import os\n",
    "import datetime, calendar\n",
    "import azure.cosmos.cosmos_client as cosmos_client\n",
    "import pandas as pd\n",
    "import matplotlib.pyplot as plt"
   ]
  },
  {
   "cell_type": "code",
   "execution_count": 2,
   "metadata": {},
   "outputs": [],
   "source": [
    "client = cosmos_client.CosmosClient(url_connection=os.environ['endpoint'], auth={'masterKey': os.environ['masterKey']})\n",
    "\n",
    "database_link = 'dbs/' + os.environ['databaseId']\n",
    "collection_link = database_link + '/colls/{}'.format(os.environ['containerId'])"
   ]
  },
  {
   "cell_type": "code",
   "execution_count": 3,
   "metadata": {},
   "outputs": [],
   "source": [
    "from datetime import datetime, timedelta\n",
    "now = datetime.now()\n",
    "one_hour = timedelta(hours=1)\n",
    "    \n",
    "# Number of days we want to go back in\n",
    "hours_in_past = 24 * 14\n",
    "    \n",
    "reversed_last_hours = list(\n",
    "    map(\n",
    "        lambda i: (now - (i * one_hour)).isoformat(),\n",
    "        range(hours_in_past + 1)\n",
    "    )\n",
    ")\n",
    "\n",
    "last_hours = reversed_last_hours[::-1]\n",
    "\n",
    "first_hour, *tail_hours = last_hours\n",
    "\n",
    "query = {\n",
    "    \"query\": \"\"\"\n",
    "     SELECT c.job_name, c.build_id, c.current_build_current_result, c.stage_timestamp, c._ts\n",
    "     FROM c\n",
    "     WHERE c.current_build_scheduled_time > '{0}Z'\n",
    "         and c.branch_name = 'master'\n",
    "    \"\"\".format(first_hour)\n",
    "}\n",
    "\n",
    "query_results = list(client.QueryItems(collection_link, query))\n",
    "\n",
    "df = pd.DataFrame(query_results)"
   ]
  },
  {
   "cell_type": "code",
   "execution_count": 4,
   "metadata": {},
   "outputs": [],
   "source": [
    "def hour_builds(hour_df):\n",
    "    return pd.DataFrame(\n",
    "        hour_df\n",
    "            .sort_values(by='stage_timestamp')\n",
    "            .drop_duplicates('job_name', keep='last')\n",
    "    )\n",
    "\n",
    "def hour_df(frame, hour_number):\n",
    "    return frame[\n",
    "        (frame['stage_timestamp'] > last_hours[hour_number])\n",
    "        & (frame['stage_timestamp'] < last_hours[hour_number + 1])\n",
    "    ]\n",
    "\n",
    "builds = list(\n",
    "    map(\n",
    "        lambda hour_number: hour_builds(hour_df(df, hour_number)),\n",
    "        list(range(len(last_hours) - 1))\n",
    "    )\n",
    ")"
   ]
  },
  {
   "cell_type": "code",
   "execution_count": 5,
   "metadata": {},
   "outputs": [],
   "source": [
    "def status_ratio(status, total):\n",
    "    return 100 if total == 0 else round(status/total * 100)\n",
    "\n",
    "def hour_stats(i, current_build):\n",
    "    total_rows = len(current_build)\n",
    "    \n",
    "    successes = len(current_build.loc[df['current_build_current_result'] == 'SUCCESS'])\n",
    "    failures = len(current_build.loc[df['current_build_current_result'] == 'FAILURE'])\n",
    "    aborted = len(current_build.loc[df['current_build_current_result'] == 'ABORTED'])\n",
    "    unknows = total_rows - successes - failures - aborted\n",
    "    \n",
    "    total = successes + failures + aborted\n",
    "    \n",
    "    return ({\n",
    "        \"successes\": successes,\n",
    "        \"failures\": failures,\n",
    "        \"aborted\": aborted,\n",
    "        \"unknows\": unknows,\n",
    "        \"success_ratio\": status_ratio(successes, total),\n",
    "        \"failure_ratio\": status_ratio(failures, total),\n",
    "        \"aborted_ratio\": status_ratio(aborted, total),\n",
    "        \"unknows_ratio\": status_ratio(unknows, total),\n",
    "        \"date\": last_hours[i],\n",
    "    })\n",
    "\n",
    "all_hours_stats = [hour_stats(i,x) for i,x in enumerate(builds)]"
   ]
  },
  {
   "cell_type": "code",
   "execution_count": 34,
   "metadata": {},
   "outputs": [
    {
     "data": {
      "image/png": "[encoded data removed]",
      "text/plain": [
       "<Figure size 1440x1440 with 2 Axes>"
      ]
     },
     "metadata": {
      "needs_background": "light"
     },
     "output_type": "display_data"
    }
   ],
   "source": [
    "import seaborn as sns\n",
    "import numpy as np\n",
    "\n",
    "stuff_df = pd.DataFrame.from_dict(all_hours_stats)\n",
    "stuff_df['hour'] = pd.to_datetime(stuff_df['date'], errors='coerce', infer_datetime_format=True).dt.hour\n",
    "stuff_df['day'] = pd.to_datetime(stuff_df['date'], errors='coerce', infer_datetime_format=True).dt.weekday_name\n",
    "\n",
    "pivot_stuff_df = pd.pivot_table(\n",
    "    stuff_df,\n",
    "    values='failure_ratio',\n",
    "    columns='hour',\n",
    "    index=['day'],\n",
    "    aggfunc=np.mean)\n",
    "\n",
    "pivot_stuff_df.unstack(level=0)\n",
    "\n",
    "# Make the days appear in the week order\n",
    "pivot_stuff_df = pivot_stuff_df.reindex(['Monday', 'Tuesday', 'Wednesday', 'Thursday', 'Friday', 'Saturday', 'Sunday'], axis=0)\n",
    "\n",
    "f, ax = plt.subplots(figsize=(20, 20))\n",
    "\n",
    "ax = sns.heatmap(pivot_stuff_df,\n",
    "                 fmt=\"d\",\n",
    "                 linewidths=0, \n",
    "                 ax=ax,\n",
    "                 square=True,\n",
    "                 cmap=\"Reds\",\n",
    "                 cbar_kws={\"orientation\": \"horizontal\"}\n",
    "                )\n",
    "ax.set(xlabel='Hour of the day', ylabel=None)\n",
    "ax.axes.set_title(\"Heatmap of pipeline master build failures percentage per 1 hour slot per weekday\", y=1.02)\n",
    "\n",
    "# Align axis\n",
    "ax.set_xticks(np.arange(pivot_stuff_df.shape[1]), minor=False)\n",
    "ax.set_yticks(np.arange(pivot_stuff_df.shape[0]), minor=False)\n",
    "ax.set_ylim(len(pivot_stuff_df), -1)\n",
    "plt.show()"
   ]
  },
  {
   "cell_type": "code",
   "execution_count": null,
   "metadata": {},
   "outputs": [],
   "source": []
  }
 ],
 "metadata": {
  "kernelspec": {
   "display_name": "Python 3",
   "language": "python",
   "name": "python3"
  },
  "language_info": {
   "codemirror_mode": {
    "name": "ipython",
    "version": 3
   },
   "file_extension": ".py",
   "mimetype": "text/x-python",
   "name": "python",
   "nbconvert_exporter": "python",
   "pygments_lexer": "ipython3",
   "version": "3.7.3"
  }
 },
 "nbformat": 4,
 "nbformat_minor": 4
}
