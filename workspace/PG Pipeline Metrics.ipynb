{
 "cells": [
  {
   "cell_type": "code",
   "execution_count": 88,
   "metadata": {},
   "outputs": [
    {
     "name": "stdout",
     "output_type": "stream",
     "text": [
      "Requirement already satisfied: azure-cosmos in /opt/conda/lib/python3.7/site-packages (3.1.2)\n",
      "Requirement already satisfied: requests>=2.10.0 in /opt/conda/lib/python3.7/site-packages (from azure-cosmos) (2.22.0)\n",
      "Requirement already satisfied: six>=1.6 in /opt/conda/lib/python3.7/site-packages (from azure-cosmos) (1.12.0)\n",
      "Requirement already satisfied: certifi>=2017.4.17 in /opt/conda/lib/python3.7/site-packages (from requests>=2.10.0->azure-cosmos) (2019.6.16)\n",
      "Requirement already satisfied: idna<2.9,>=2.5 in /opt/conda/lib/python3.7/site-packages (from requests>=2.10.0->azure-cosmos) (2.8)\n",
      "Requirement already satisfied: chardet<3.1.0,>=3.0.2 in /opt/conda/lib/python3.7/site-packages (from requests>=2.10.0->azure-cosmos) (3.0.4)\n",
      "Requirement already satisfied: urllib3!=1.25.0,!=1.25.1,<1.26,>=1.21.1 in /opt/conda/lib/python3.7/site-packages (from requests>=2.10.0->azure-cosmos) (1.25.3)\n"
     ]
    }
   ],
   "source": [
    "import sys\n",
    "!{sys.executable} -m pip install azure-cosmos\n",
    "import os\n",
    "import datetime\n",
    "import azure.cosmos.cosmos_client as cosmos_client"
   ]
  },
  {
   "cell_type": "code",
   "execution_count": 89,
   "metadata": {},
   "outputs": [],
   "source": [
    "client = cosmos_client.CosmosClient(url_connection=os.environ['endpoint'], auth={'masterKey': os.environ['masterKey']})\n",
    "\n",
    "database_link = 'dbs/' + os.environ['databaseId']\n",
    "collection_link = database_link + '/colls/{}'.format(os.environ['containerId'])"
   ]
  },
  {
   "cell_type": "markdown",
   "metadata": {},
   "source": [
    "## Failure ratio of master jobs\n",
    "Jobs initiated in the last 24h"
   ]
  },
  {
   "cell_type": "code",
   "execution_count": 90,
   "metadata": {},
   "outputs": [
    {
     "data": {
      "text/html": [
       "<div>\n",
       "<style scoped>\n",
       "    .dataframe tbody tr th:only-of-type {\n",
       "        vertical-align: middle;\n",
       "    }\n",
       "\n",
       "    .dataframe tbody tr th {\n",
       "        vertical-align: top;\n",
       "    }\n",
       "\n",
       "    .dataframe thead th {\n",
       "        text-align: right;\n",
       "    }\n",
       "</style>\n",
       "<table border=\"1\" class=\"dataframe\">\n",
       "  <thead>\n",
       "    <tr style=\"text-align: right;\">\n",
       "      <th></th>\n",
       "      <th>job_name</th>\n",
       "      <th>build_id</th>\n",
       "      <th>current_build_current_result</th>\n",
       "      <th>stage_timestamp</th>\n",
       "      <th>_ts</th>\n",
       "    </tr>\n",
       "  </thead>\n",
       "  <tbody>\n",
       "    <tr>\n",
       "      <td>11</td>\n",
       "      <td>HMCTS_IAC/ia-aip-frontend-tmp/master</td>\n",
       "      <td>59</td>\n",
       "      <td>SUCCESS</td>\n",
       "      <td>2019-10-16T19:12:32Z</td>\n",
       "      <td>1571253152</td>\n",
       "    </tr>\n",
       "    <tr>\n",
       "      <td>74</td>\n",
       "      <td>HMCTS_Nightly_SSCS/sscs-performance-tests/master</td>\n",
       "      <td>108</td>\n",
       "      <td>FAILURE</td>\n",
       "      <td>2019-10-16T21:09:22Z</td>\n",
       "      <td>1571260162</td>\n",
       "    </tr>\n",
       "    <tr>\n",
       "      <td>80</td>\n",
       "      <td>HMCTS_Nightly_CMC/cmc-performance-test/master</td>\n",
       "      <td>112</td>\n",
       "      <td>SUCCESS</td>\n",
       "      <td>2019-10-16T21:11:13Z</td>\n",
       "      <td>1571260273</td>\n",
       "    </tr>\n",
       "    <tr>\n",
       "      <td>83</td>\n",
       "      <td>HMCTS_Nightly_CDM/ccd-cdm-performance/master</td>\n",
       "      <td>71</td>\n",
       "      <td>SUCCESS</td>\n",
       "      <td>2019-10-16T21:15:56Z</td>\n",
       "      <td>1571260556</td>\n",
       "    </tr>\n",
       "    <tr>\n",
       "      <td>85</td>\n",
       "      <td>HMCTS_Nightly_DIV/divorce-performance-tests/ma...</td>\n",
       "      <td>131</td>\n",
       "      <td>SUCCESS</td>\n",
       "      <td>2019-10-16T21:16:10Z</td>\n",
       "      <td>1571260570</td>\n",
       "    </tr>\n",
       "    <tr>\n",
       "      <td>...</td>\n",
       "      <td>...</td>\n",
       "      <td>...</td>\n",
       "      <td>...</td>\n",
       "      <td>...</td>\n",
       "      <td>...</td>\n",
       "    </tr>\n",
       "    <tr>\n",
       "      <td>1806</td>\n",
       "      <td>HMCTS_RPA/rpa-em-annotation-api/master</td>\n",
       "      <td>79</td>\n",
       "      <td>SUCCESS</td>\n",
       "      <td>2019-10-17T18:00:37Z</td>\n",
       "      <td>1571335237</td>\n",
       "    </tr>\n",
       "    <tr>\n",
       "      <td>1810</td>\n",
       "      <td>HMCTS_BSP/bulk-scan-orchestrator/master</td>\n",
       "      <td>110</td>\n",
       "      <td>SUCCESS</td>\n",
       "      <td>2019-10-17T18:19:24Z</td>\n",
       "      <td>1571336364</td>\n",
       "    </tr>\n",
       "    <tr>\n",
       "      <td>1821</td>\n",
       "      <td>HMCTS_CDM/document-management-store-app/master</td>\n",
       "      <td>40</td>\n",
       "      <td>SUCCESS</td>\n",
       "      <td>2019-10-17T18:41:16Z</td>\n",
       "      <td>1571337677</td>\n",
       "    </tr>\n",
       "    <tr>\n",
       "      <td>1823</td>\n",
       "      <td>HMCTS_RPA/rpa-dg-docassembly-api/master</td>\n",
       "      <td>51</td>\n",
       "      <td>SUCCESS</td>\n",
       "      <td>2019-10-17T18:42:44Z</td>\n",
       "      <td>1571337764</td>\n",
       "    </tr>\n",
       "    <tr>\n",
       "      <td>1825</td>\n",
       "      <td>HMCTS_BSP/send-letter-service/master</td>\n",
       "      <td>41</td>\n",
       "      <td>FAILURE</td>\n",
       "      <td>2019-10-17T18:42:54Z</td>\n",
       "      <td>1571337774</td>\n",
       "    </tr>\n",
       "  </tbody>\n",
       "</table>\n",
       "<p>93 rows × 5 columns</p>\n",
       "</div>"
      ],
      "text/plain": [
       "                                               job_name build_id  \\\n",
       "11                 HMCTS_IAC/ia-aip-frontend-tmp/master       59   \n",
       "74     HMCTS_Nightly_SSCS/sscs-performance-tests/master      108   \n",
       "80        HMCTS_Nightly_CMC/cmc-performance-test/master      112   \n",
       "83         HMCTS_Nightly_CDM/ccd-cdm-performance/master       71   \n",
       "85    HMCTS_Nightly_DIV/divorce-performance-tests/ma...      131   \n",
       "...                                                 ...      ...   \n",
       "1806             HMCTS_RPA/rpa-em-annotation-api/master       79   \n",
       "1810            HMCTS_BSP/bulk-scan-orchestrator/master      110   \n",
       "1821     HMCTS_CDM/document-management-store-app/master       40   \n",
       "1823            HMCTS_RPA/rpa-dg-docassembly-api/master       51   \n",
       "1825               HMCTS_BSP/send-letter-service/master       41   \n",
       "\n",
       "     current_build_current_result       stage_timestamp         _ts  \n",
       "11                        SUCCESS  2019-10-16T19:12:32Z  1571253152  \n",
       "74                        FAILURE  2019-10-16T21:09:22Z  1571260162  \n",
       "80                        SUCCESS  2019-10-16T21:11:13Z  1571260273  \n",
       "83                        SUCCESS  2019-10-16T21:15:56Z  1571260556  \n",
       "85                        SUCCESS  2019-10-16T21:16:10Z  1571260570  \n",
       "...                           ...                   ...         ...  \n",
       "1806                      SUCCESS  2019-10-17T18:00:37Z  1571335237  \n",
       "1810                      SUCCESS  2019-10-17T18:19:24Z  1571336364  \n",
       "1821                      SUCCESS  2019-10-17T18:41:16Z  1571337677  \n",
       "1823                      SUCCESS  2019-10-17T18:42:44Z  1571337764  \n",
       "1825                      FAILURE  2019-10-17T18:42:54Z  1571337774  \n",
       "\n",
       "[93 rows x 5 columns]"
      ]
     },
     "execution_count": 90,
     "metadata": {},
     "output_type": "execute_result"
    }
   ],
   "source": [
    "import pandas as pd\n",
    "\n",
    "oneDayAgo = (datetime.datetime.now()  - datetime.timedelta(days=1)).isoformat()\n",
    "\n",
    "query = {\n",
    "    \"query\": \"\"\"\n",
    "     SELECT c.job_name, c.build_id, c.current_build_current_result, c.stage_timestamp, c._ts\n",
    "     FROM c\n",
    "     WHERE c.current_build_scheduled_time > '{0}Z'\n",
    "         and c.branch_name = 'master'\n",
    "    \"\"\".format(oneDayAgo)\n",
    "}\n",
    "\n",
    "query_results = list(client.QueryItems(collection_link, query))\n",
    "\n",
    "df = pd.DataFrame(query_results)\n",
    "\n",
    "last_builds = pd.DataFrame(\n",
    "    df\n",
    "        .sort_values(by='stage_timestamp')\n",
    "        .drop_duplicates('job_name', keep='last'),\n",
    "    columns=sorted.keys()\n",
    ")\n",
    "\n",
    "last_builds"
   ]
  },
  {
   "cell_type": "code",
   "execution_count": 91,
   "metadata": {},
   "outputs": [
    {
     "data": {
      "text/plain": [
       "93"
      ]
     },
     "execution_count": 91,
     "metadata": {},
     "output_type": "execute_result"
    }
   ],
   "source": [
    "total_rows = len(last_builds)\n",
    "total_rows"
   ]
  },
  {
   "cell_type": "code",
   "execution_count": 92,
   "metadata": {
    "jupyter": {
     "source_hidden": true
    }
   },
   "outputs": [],
   "source": [
    "successes = len(last_builds.loc[df['current_build_current_result'] == 'SUCCESS'])\n",
    "failures = len(last_builds.loc[df['current_build_current_result'] == 'FAILURE'])"
   ]
  },
  {
   "cell_type": "code",
   "execution_count": 93,
   "metadata": {
    "jupyter": {
     "source_hidden": true
    }
   },
   "outputs": [
    {
     "data": {
      "text/plain": [
       "<matplotlib.axes._subplots.AxesSubplot at 0x7fd95bf24748>"
      ]
     },
     "execution_count": 93,
     "metadata": {},
     "output_type": "execute_result"
    },
    {
     "data": {
      "image/png": "[encoded data removed]",
      "text/plain": [
       "<Figure size 432x288 with 1 Axes>"
      ]
     },
     "metadata": {},
     "output_type": "display_data"
    }
   ],
   "source": [
    "df_result = pd.DataFrame({'result': [successes, failures]},\n",
    "    index=['SUCCESS', 'FAILURE'])\n",
    "\n",
    "df_result.plot.pie(y='result')"
   ]
  },
  {
   "cell_type": "code",
   "execution_count": null,
   "metadata": {},
   "outputs": [],
   "source": []
  }
 ],
 "metadata": {
  "kernelspec": {
   "display_name": "Python 3",
   "language": "python",
   "name": "python3"
  },
  "language_info": {
   "codemirror_mode": {
    "name": "ipython",
    "version": 3
   },
   "file_extension": ".py",
   "mimetype": "text/x-python",
   "name": "python",
   "nbconvert_exporter": "python",
   "pygments_lexer": "ipython3",
   "version": "3.7.3"
  }
 },
 "nbformat": 4,
 "nbformat_minor": 4
}
