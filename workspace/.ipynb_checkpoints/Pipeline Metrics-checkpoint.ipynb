{
 "cells": [
  {
   "cell_type": "code",
   "execution_count": 13,
   "metadata": {},
   "outputs": [
    {
     "name": "stdout",
     "output_type": "stream",
     "text": [
      "Requirement already satisfied: azure-cosmos in /opt/conda/lib/python3.7/site-packages (3.1.2)\n",
      "Requirement already satisfied: requests>=2.10.0 in /opt/conda/lib/python3.7/site-packages (from azure-cosmos) (2.22.0)\n",
      "Requirement already satisfied: six>=1.6 in /opt/conda/lib/python3.7/site-packages (from azure-cosmos) (1.12.0)\n",
      "Requirement already satisfied: idna<2.9,>=2.5 in /opt/conda/lib/python3.7/site-packages (from requests>=2.10.0->azure-cosmos) (2.8)\n",
      "Requirement already satisfied: urllib3!=1.25.0,!=1.25.1,<1.26,>=1.21.1 in /opt/conda/lib/python3.7/site-packages (from requests>=2.10.0->azure-cosmos) (1.25.3)\n",
      "Requirement already satisfied: chardet<3.1.0,>=3.0.2 in /opt/conda/lib/python3.7/site-packages (from requests>=2.10.0->azure-cosmos) (3.0.4)\n",
      "Requirement already satisfied: certifi>=2017.4.17 in /opt/conda/lib/python3.7/site-packages (from requests>=2.10.0->azure-cosmos) (2019.6.16)\n"
     ]
    }
   ],
   "source": [
    "%run \"azure-imports.py\""
   ]
  },
  {
   "cell_type": "code",
   "execution_count": 14,
   "metadata": {
    "jupyter": {
     "source_hidden": true
    }
   },
   "outputs": [],
   "source": [
    "client = cosmos_client.CosmosClient(url_connection=os.environ['endpoint'], auth={'masterKey': os.environ['masterKey']})\n",
    "\n",
    "database_link = 'dbs/' + os.environ['databaseId']\n",
    "collection_link = database_link + '/colls/{}'.format(os.environ['containerId'])"
   ]
  },
  {
   "cell_type": "markdown",
   "metadata": {},
   "source": [
    "## Failure ratio of master jobs\n",
    "Jobs initiated in the last 24h"
   ]
  },
  {
   "cell_type": "code",
   "execution_count": 15,
   "metadata": {},
   "outputs": [
    {
     "data": {
      "text/html": [
       "<div>\n",
       "<style scoped>\n",
       "    .dataframe tbody tr th:only-of-type {\n",
       "        vertical-align: middle;\n",
       "    }\n",
       "\n",
       "    .dataframe tbody tr th {\n",
       "        vertical-align: top;\n",
       "    }\n",
       "\n",
       "    .dataframe thead th {\n",
       "        text-align: right;\n",
       "    }\n",
       "</style>\n",
       "<table border=\"1\" class=\"dataframe\">\n",
       "  <thead>\n",
       "    <tr style=\"text-align: right;\">\n",
       "      <th></th>\n",
       "      <th>job_name</th>\n",
       "      <th>build_id</th>\n",
       "      <th>current_build_current_result</th>\n",
       "      <th>stage_timestamp</th>\n",
       "      <th>_ts</th>\n",
       "    </tr>\n",
       "  </thead>\n",
       "  <tbody>\n",
       "    <tr>\n",
       "      <td>99</td>\n",
       "      <td>HMCTS_SSCS/sscs-cor-backend/master</td>\n",
       "      <td>102</td>\n",
       "      <td>FAILURE</td>\n",
       "      <td>2019-10-17T10:35:23Z</td>\n",
       "      <td>1571308523</td>\n",
       "    </tr>\n",
       "    <tr>\n",
       "      <td>443</td>\n",
       "      <td>HMCTS_IAC/ia-case-notifications-api/master</td>\n",
       "      <td>43</td>\n",
       "      <td>SUCCESS</td>\n",
       "      <td>2019-10-17T12:59:30Z</td>\n",
       "      <td>1571317170</td>\n",
       "    </tr>\n",
       "    <tr>\n",
       "      <td>455</td>\n",
       "      <td>HMCTS_SSCS/sscs-bulk-scan/master</td>\n",
       "      <td>106</td>\n",
       "      <td>FAILURE</td>\n",
       "      <td>2019-10-17T13:01:35Z</td>\n",
       "      <td>1571317295</td>\n",
       "    </tr>\n",
       "    <tr>\n",
       "      <td>500</td>\n",
       "      <td>HMCTS_DIV/div-case-orchestration-service/master</td>\n",
       "      <td>402</td>\n",
       "      <td>SUCCESS</td>\n",
       "      <td>2019-10-17T13:29:31Z</td>\n",
       "      <td>1571318971</td>\n",
       "    </tr>\n",
       "    <tr>\n",
       "      <td>525</td>\n",
       "      <td>HMCTS_DIV/div-document-generator-client/master</td>\n",
       "      <td>93</td>\n",
       "      <td>SUCCESS</td>\n",
       "      <td>2019-10-17T13:37:20Z</td>\n",
       "      <td>1571319440</td>\n",
       "    </tr>\n",
       "    <tr>\n",
       "      <td>...</td>\n",
       "      <td>...</td>\n",
       "      <td>...</td>\n",
       "      <td>...</td>\n",
       "      <td>...</td>\n",
       "      <td>...</td>\n",
       "    </tr>\n",
       "    <tr>\n",
       "      <td>2007</td>\n",
       "      <td>HMCTS_BSP/bulk-scan-ccd-event-handler-sample-a...</td>\n",
       "      <td>32</td>\n",
       "      <td>SUCCESS</td>\n",
       "      <td>2019-10-18T09:41:33Z</td>\n",
       "      <td>1571391693</td>\n",
       "    </tr>\n",
       "    <tr>\n",
       "      <td>2016</td>\n",
       "      <td>HMCTS_CMC/cmc-citizen-frontend/master</td>\n",
       "      <td>267</td>\n",
       "      <td>SUCCESS</td>\n",
       "      <td>2019-10-18T09:45:38Z</td>\n",
       "      <td>1571391938</td>\n",
       "    </tr>\n",
       "    <tr>\n",
       "      <td>2022</td>\n",
       "      <td>HMCTS_IAC/ia-aip-frontend-tmp/master</td>\n",
       "      <td>60</td>\n",
       "      <td>SUCCESS</td>\n",
       "      <td>2019-10-18T09:47:01Z</td>\n",
       "      <td>1571392021</td>\n",
       "    </tr>\n",
       "    <tr>\n",
       "      <td>2024</td>\n",
       "      <td>HMCTS_SSCS/sscs-submit-your-appeal/master</td>\n",
       "      <td>98</td>\n",
       "      <td>SUCCESS</td>\n",
       "      <td>2019-10-18T09:48:01Z</td>\n",
       "      <td>1571392081</td>\n",
       "    </tr>\n",
       "    <tr>\n",
       "      <td>2025</td>\n",
       "      <td>HMCTS_SSCS/sscs-track-your-appeal-notification...</td>\n",
       "      <td>211</td>\n",
       "      <td>SUCCESS</td>\n",
       "      <td>2019-10-18T09:48:33Z</td>\n",
       "      <td>1571392113</td>\n",
       "    </tr>\n",
       "  </tbody>\n",
       "</table>\n",
       "<p>98 rows × 5 columns</p>\n",
       "</div>"
      ],
      "text/plain": [
       "                                               job_name build_id  \\\n",
       "99                   HMCTS_SSCS/sscs-cor-backend/master      102   \n",
       "443          HMCTS_IAC/ia-case-notifications-api/master       43   \n",
       "455                    HMCTS_SSCS/sscs-bulk-scan/master      106   \n",
       "500     HMCTS_DIV/div-case-orchestration-service/master      402   \n",
       "525      HMCTS_DIV/div-document-generator-client/master       93   \n",
       "...                                                 ...      ...   \n",
       "2007  HMCTS_BSP/bulk-scan-ccd-event-handler-sample-a...       32   \n",
       "2016              HMCTS_CMC/cmc-citizen-frontend/master      267   \n",
       "2022               HMCTS_IAC/ia-aip-frontend-tmp/master       60   \n",
       "2024          HMCTS_SSCS/sscs-submit-your-appeal/master       98   \n",
       "2025  HMCTS_SSCS/sscs-track-your-appeal-notification...      211   \n",
       "\n",
       "     current_build_current_result       stage_timestamp         _ts  \n",
       "99                        FAILURE  2019-10-17T10:35:23Z  1571308523  \n",
       "443                       SUCCESS  2019-10-17T12:59:30Z  1571317170  \n",
       "455                       FAILURE  2019-10-17T13:01:35Z  1571317295  \n",
       "500                       SUCCESS  2019-10-17T13:29:31Z  1571318971  \n",
       "525                       SUCCESS  2019-10-17T13:37:20Z  1571319440  \n",
       "...                           ...                   ...         ...  \n",
       "2007                      SUCCESS  2019-10-18T09:41:33Z  1571391693  \n",
       "2016                      SUCCESS  2019-10-18T09:45:38Z  1571391938  \n",
       "2022                      SUCCESS  2019-10-18T09:47:01Z  1571392021  \n",
       "2024                      SUCCESS  2019-10-18T09:48:01Z  1571392081  \n",
       "2025                      SUCCESS  2019-10-18T09:48:33Z  1571392113  \n",
       "\n",
       "[98 rows x 5 columns]"
      ]
     },
     "execution_count": 15,
     "metadata": {},
     "output_type": "execute_result"
    }
   ],
   "source": [
    "import pandas as pd\n",
    "\n",
    "oneDayAgo = (datetime.datetime.now()  - datetime.timedelta(days=1)).isoformat()\n",
    "\n",
    "query = {\n",
    "    \"query\": \"\"\"\n",
    "     SELECT c.job_name, c.build_id, c.current_build_current_result, c.stage_timestamp, c._ts\n",
    "     FROM c\n",
    "     WHERE c.current_build_scheduled_time > '{0}Z'\n",
    "         and c.branch_name = 'master'\n",
    "    \"\"\".format(oneDayAgo)\n",
    "}\n",
    "\n",
    "query_results = list(client.QueryItems(collection_link, query))\n",
    "\n",
    "df = pd.DataFrame(query_results)\n",
    "\n",
    "last_builds = pd.DataFrame(\n",
    "    df\n",
    "        .sort_values(by='stage_timestamp')\n",
    "        .drop_duplicates('job_name', keep='last')\n",
    ")\n",
    "\n",
    "last_builds"
   ]
  },
  {
   "cell_type": "code",
   "execution_count": 16,
   "metadata": {},
   "outputs": [
    {
     "data": {
      "text/plain": [
       "98"
      ]
     },
     "execution_count": 16,
     "metadata": {},
     "output_type": "execute_result"
    }
   ],
   "source": [
    "total_rows = len(last_builds)\n",
    "total_rows"
   ]
  },
  {
   "cell_type": "code",
   "execution_count": 17,
   "metadata": {},
   "outputs": [
    {
     "name": "stdout",
     "output_type": "stream",
     "text": [
      "38 57\n"
     ]
    }
   ],
   "source": [
    "successes = len(last_builds.loc[df['current_build_current_result'] == 'SUCCESS'])\n",
    "failures = len(last_builds.loc[df['current_build_current_result'] == 'FAILURE'])\n",
    "print(successes, failures)"
   ]
  },
  {
   "cell_type": "code",
   "execution_count": 18,
   "metadata": {},
   "outputs": [
    {
     "data": {
      "text/plain": [
       "<matplotlib.axes._subplots.AxesSubplot at 0x7f23fe507518>"
      ]
     },
     "execution_count": 18,
     "metadata": {},
     "output_type": "execute_result"
    },
    {
     "data": {
      "image/png": "[encoded data removed]",
      "text/plain": [
       "<Figure size 720x720 with 1 Axes>"
      ]
     },
     "metadata": {},
     "output_type": "display_data"
    }
   ],
   "source": [
    "df_result = pd.DataFrame({'Builds Results': [successes, failures]},\n",
    "    index=['SUCCESS', 'FAILURE'])\n",
    "\n",
    "df_result.plot.pie(y='Builds Results', figsize=(10, 10))"
   ]
  },
  {
   "cell_type": "code",
   "execution_count": null,
   "metadata": {},
   "outputs": [],
   "source": []
  },
  {
   "cell_type": "code",
   "execution_count": null,
   "metadata": {},
   "outputs": [],
   "source": []
  }
 ],
 "metadata": {
  "kernelspec": {
   "display_name": "Python 3",
   "language": "python",
   "name": "python3"
  },
  "language_info": {
   "codemirror_mode": {
    "name": "ipython",
    "version": 3
   },
   "file_extension": ".py",
   "mimetype": "text/x-python",
   "name": "python",
   "nbconvert_exporter": "python",
   "pygments_lexer": "ipython3",
   "version": "3.7.3"
  }
 },
 "nbformat": 4,
 "nbformat_minor": 4
}
