{
 "cells": [
  {
   "cell_type": "markdown",
   "metadata": {},
   "source": [
    "## Failure ratio of master jobs\n",
    "Jobs initiated in the last 24h"
   ]
  },
  {
   "cell_type": "code",
   "execution_count": 1,
   "metadata": {},
   "outputs": [],
   "source": [
    "import sys\n",
    "import os\n",
    "import datetime\n",
    "import azure.cosmos.cosmos_client as cosmos_client"
   ]
  },
  {
   "cell_type": "code",
   "execution_count": 2,
   "metadata": {},
   "outputs": [],
   "source": [
    "client = cosmos_client.CosmosClient(url_connection=os.environ['endpoint'], auth={'masterKey': os.environ['masterKey']})\n",
    "\n",
    "database_link = 'dbs/' + os.environ['databaseId']\n",
    "collection_link = database_link + '/colls/{}'.format(os.environ['containerId'])"
   ]
  },
  {
   "cell_type": "code",
   "execution_count": 3,
   "metadata": {},
   "outputs": [
    {
     "data": {
      "text/html": [
       "<div>\n",
       "<style scoped>\n",
       "    .dataframe tbody tr th:only-of-type {\n",
       "        vertical-align: middle;\n",
       "    }\n",
       "\n",
       "    .dataframe tbody tr th {\n",
       "        vertical-align: top;\n",
       "    }\n",
       "\n",
       "    .dataframe thead th {\n",
       "        text-align: right;\n",
       "    }\n",
       "</style>\n",
       "<table border=\"1\" class=\"dataframe\">\n",
       "  <thead>\n",
       "    <tr style=\"text-align: right;\">\n",
       "      <th></th>\n",
       "      <th>job_name</th>\n",
       "      <th>build_id</th>\n",
       "      <th>current_build_current_result</th>\n",
       "      <th>stage_timestamp</th>\n",
       "      <th>_ts</th>\n",
       "    </tr>\n",
       "  </thead>\n",
       "  <tbody>\n",
       "    <tr>\n",
       "      <td>140</td>\n",
       "      <td>HMCTS_IAC/ia-case-notifications-api/master</td>\n",
       "      <td>43</td>\n",
       "      <td>SUCCESS</td>\n",
       "      <td>2019-10-17T12:59:30Z</td>\n",
       "      <td>1571317170</td>\n",
       "    </tr>\n",
       "    <tr>\n",
       "      <td>152</td>\n",
       "      <td>HMCTS_SSCS/sscs-bulk-scan/master</td>\n",
       "      <td>106</td>\n",
       "      <td>FAILURE</td>\n",
       "      <td>2019-10-17T13:01:35Z</td>\n",
       "      <td>1571317295</td>\n",
       "    </tr>\n",
       "    <tr>\n",
       "      <td>197</td>\n",
       "      <td>HMCTS_DIV/div-case-orchestration-service/master</td>\n",
       "      <td>402</td>\n",
       "      <td>SUCCESS</td>\n",
       "      <td>2019-10-17T13:29:31Z</td>\n",
       "      <td>1571318971</td>\n",
       "    </tr>\n",
       "    <tr>\n",
       "      <td>382</td>\n",
       "      <td>HMCTS_RPA/rpx-xui-manage-organisations/master</td>\n",
       "      <td>245</td>\n",
       "      <td>FAILURE</td>\n",
       "      <td>2019-10-17T14:32:11Z</td>\n",
       "      <td>1571322731</td>\n",
       "    </tr>\n",
       "    <tr>\n",
       "      <td>396</td>\n",
       "      <td>HMCTS_RPA/rpx-xui-approve-org/master</td>\n",
       "      <td>149</td>\n",
       "      <td>FAILURE</td>\n",
       "      <td>2019-10-17T14:40:54Z</td>\n",
       "      <td>1571323254</td>\n",
       "    </tr>\n",
       "    <tr>\n",
       "      <td>...</td>\n",
       "      <td>...</td>\n",
       "      <td>...</td>\n",
       "      <td>...</td>\n",
       "      <td>...</td>\n",
       "      <td>...</td>\n",
       "    </tr>\n",
       "    <tr>\n",
       "      <td>1936</td>\n",
       "      <td>HMCTS_SSCS/sscs-ccd-callback-orchestrator/master</td>\n",
       "      <td>39</td>\n",
       "      <td>SUCCESS</td>\n",
       "      <td>2019-10-18T11:32:33Z</td>\n",
       "      <td>1571398353</td>\n",
       "    </tr>\n",
       "    <tr>\n",
       "      <td>1945</td>\n",
       "      <td>HMCTS_RPA/rpx-xui-webapp/master</td>\n",
       "      <td>193</td>\n",
       "      <td>FAILURE</td>\n",
       "      <td>2019-10-18T11:39:07Z</td>\n",
       "      <td>1571398747</td>\n",
       "    </tr>\n",
       "    <tr>\n",
       "      <td>1948</td>\n",
       "      <td>HMCTS_CMC/cmc-claim-store/master</td>\n",
       "      <td>218</td>\n",
       "      <td>SUCCESS</td>\n",
       "      <td>2019-10-18T11:42:59Z</td>\n",
       "      <td>1571398979</td>\n",
       "    </tr>\n",
       "    <tr>\n",
       "      <td>1949</td>\n",
       "      <td>HMCTS_SSCS/sscs-track-your-appeal-notification...</td>\n",
       "      <td>212</td>\n",
       "      <td>SUCCESS</td>\n",
       "      <td>2019-10-18T11:43:02Z</td>\n",
       "      <td>1571398982</td>\n",
       "    </tr>\n",
       "    <tr>\n",
       "      <td>1950</td>\n",
       "      <td>HMCTS_RPA/rpa-em-stitching-api/master</td>\n",
       "      <td>168</td>\n",
       "      <td>SUCCESS</td>\n",
       "      <td>2019-10-18T11:43:30Z</td>\n",
       "      <td>1571399011</td>\n",
       "    </tr>\n",
       "  </tbody>\n",
       "</table>\n",
       "<p>104 rows × 5 columns</p>\n",
       "</div>"
      ],
      "text/plain": [
       "                                               job_name build_id  \\\n",
       "140          HMCTS_IAC/ia-case-notifications-api/master       43   \n",
       "152                    HMCTS_SSCS/sscs-bulk-scan/master      106   \n",
       "197     HMCTS_DIV/div-case-orchestration-service/master      402   \n",
       "382       HMCTS_RPA/rpx-xui-manage-organisations/master      245   \n",
       "396                HMCTS_RPA/rpx-xui-approve-org/master      149   \n",
       "...                                                 ...      ...   \n",
       "1936   HMCTS_SSCS/sscs-ccd-callback-orchestrator/master       39   \n",
       "1945                    HMCTS_RPA/rpx-xui-webapp/master      193   \n",
       "1948                   HMCTS_CMC/cmc-claim-store/master      218   \n",
       "1949  HMCTS_SSCS/sscs-track-your-appeal-notification...      212   \n",
       "1950              HMCTS_RPA/rpa-em-stitching-api/master      168   \n",
       "\n",
       "     current_build_current_result       stage_timestamp         _ts  \n",
       "140                       SUCCESS  2019-10-17T12:59:30Z  1571317170  \n",
       "152                       FAILURE  2019-10-17T13:01:35Z  1571317295  \n",
       "197                       SUCCESS  2019-10-17T13:29:31Z  1571318971  \n",
       "382                       FAILURE  2019-10-17T14:32:11Z  1571322731  \n",
       "396                       FAILURE  2019-10-17T14:40:54Z  1571323254  \n",
       "...                           ...                   ...         ...  \n",
       "1936                      SUCCESS  2019-10-18T11:32:33Z  1571398353  \n",
       "1945                      FAILURE  2019-10-18T11:39:07Z  1571398747  \n",
       "1948                      SUCCESS  2019-10-18T11:42:59Z  1571398979  \n",
       "1949                      SUCCESS  2019-10-18T11:43:02Z  1571398982  \n",
       "1950                      SUCCESS  2019-10-18T11:43:30Z  1571399011  \n",
       "\n",
       "[104 rows x 5 columns]"
      ]
     },
     "execution_count": 3,
     "metadata": {},
     "output_type": "execute_result"
    }
   ],
   "source": [
    "import pandas as pd\n",
    "\n",
    "oneDayAgo = (datetime.datetime.now()  - datetime.timedelta(days=1)).isoformat()\n",
    "\n",
    "query = {\n",
    "    \"query\": \"\"\"\n",
    "     SELECT c.job_name, c.build_id, c.current_build_current_result, c.stage_timestamp, c._ts\n",
    "     FROM c\n",
    "     WHERE c.current_build_scheduled_time > '{0}Z'\n",
    "         and c.branch_name = 'master'\n",
    "    \"\"\".format(oneDayAgo)\n",
    "}\n",
    "\n",
    "query_results = list(client.QueryItems(collection_link, query))\n",
    "\n",
    "df = pd.DataFrame(query_results)\n",
    "\n",
    "last_builds = pd.DataFrame(\n",
    "    df\n",
    "        .sort_values(by='stage_timestamp')\n",
    "        .drop_duplicates('job_name', keep='last')\n",
    ")\n",
    "\n",
    "last_builds"
   ]
  },
  {
   "cell_type": "code",
   "execution_count": 4,
   "metadata": {},
   "outputs": [
    {
     "data": {
      "text/plain": [
       "104"
      ]
     },
     "execution_count": 4,
     "metadata": {},
     "output_type": "execute_result"
    }
   ],
   "source": [
    "total_rows = len(last_builds)\n",
    "total_rows"
   ]
  },
  {
   "cell_type": "code",
   "execution_count": 5,
   "metadata": {},
   "outputs": [],
   "source": [
    "successes = len(last_builds.loc[df['current_build_current_result'] == 'SUCCESS'])\n",
    "failures = len(last_builds.loc[df['current_build_current_result'] == 'FAILURE'])\n",
    "unknows = total_rows - successes - failures\n",
    "success_ratio = round(successes/(successes + failures) * 100)"
   ]
  },
  {
   "cell_type": "code",
   "execution_count": 7,
   "metadata": {},
   "outputs": [
    {
     "name": "stdout",
     "output_type": "stream",
     "text": [
      "\n",
      "Success Ratio: 40%\n"
     ]
    },
    {
     "data": {
      "image/png": "[encoded data removed]",
      "text/plain": [
       "<Figure size 720x720 with 1 Axes>"
      ]
     },
     "metadata": {},
     "output_type": "display_data"
    }
   ],
   "source": [
    "df_result = pd.DataFrame({'Builds Results': [successes, failures, unknows]},\n",
    "    index=['SUCCESS', 'FAILURE', 'UNKOWNS'])\n",
    "\n",
    "df_result.plot.pie(y='Builds Results', figsize=(10, 10))\n",
    "print('')\n",
    "print('Success Ratio: {0}%'.format(success_ratio))"
   ]
  },
  {
   "cell_type": "code",
   "execution_count": null,
   "metadata": {},
   "outputs": [],
   "source": []
  },
  {
   "cell_type": "code",
   "execution_count": null,
   "metadata": {},
   "outputs": [],
   "source": []
  }
 ],
 "metadata": {
  "kernelspec": {
   "display_name": "Python 3",
   "language": "python",
   "name": "python3"
  },
  "language_info": {
   "codemirror_mode": {
    "name": "ipython",
    "version": 3
   },
   "file_extension": ".py",
   "mimetype": "text/x-python",
   "name": "python",
   "nbconvert_exporter": "python",
   "pygments_lexer": "ipython3",
   "version": "3.7.3"
  }
 },
 "nbformat": 4,
 "nbformat_minor": 4
}
