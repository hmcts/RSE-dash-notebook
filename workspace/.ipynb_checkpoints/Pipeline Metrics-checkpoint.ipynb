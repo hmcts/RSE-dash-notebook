{
 "cells": [
  {
   "cell_type": "code",
   "execution_count": 5,
   "metadata": {},
   "outputs": [
    {
     "name": "stdout",
     "output_type": "stream",
     "text": [
      "Requirement already satisfied: azure-cosmos in /opt/conda/lib/python3.7/site-packages (3.1.1)\n",
      "Requirement already satisfied: six>=1.6 in /opt/conda/lib/python3.7/site-packages (from azure-cosmos) (1.12.0)\n",
      "Requirement already satisfied: requests>=2.10.0 in /opt/conda/lib/python3.7/site-packages (from azure-cosmos) (2.22.0)\n",
      "Requirement already satisfied: urllib3!=1.25.0,!=1.25.1,<1.26,>=1.21.1 in /opt/conda/lib/python3.7/site-packages (from requests>=2.10.0->azure-cosmos) (1.25.3)\n",
      "Requirement already satisfied: certifi>=2017.4.17 in /opt/conda/lib/python3.7/site-packages (from requests>=2.10.0->azure-cosmos) (2019.6.16)\n",
      "Requirement already satisfied: chardet<3.1.0,>=3.0.2 in /opt/conda/lib/python3.7/site-packages (from requests>=2.10.0->azure-cosmos) (3.0.4)\n",
      "Requirement already satisfied: idna<2.9,>=2.5 in /opt/conda/lib/python3.7/site-packages (from requests>=2.10.0->azure-cosmos) (2.8)\n"
     ]
    }
   ],
   "source": [
    "import sys\n",
    "!{sys.executable} -m pip install azure-cosmos\n",
    "import os\n",
    "import datetime\n",
    "import azure.cosmos.cosmos_client as cosmos_client"
   ]
  },
  {
   "cell_type": "code",
   "execution_count": 6,
   "metadata": {},
   "outputs": [],
   "source": [
    "client = cosmos_client.CosmosClient(url_connection=os.environ['endpoint'], auth={'masterKey': os.environ['masterKey']})\n",
    "\n",
    "database_link = 'dbs/' + os.environ['databaseId']\n",
    "collection_link = database_link + '/colls/{}'.format(os.environ['containerId'])"
   ]
  },
  {
   "cell_type": "markdown",
   "metadata": {},
   "source": [
    "## Builds in the last 15 minutes"
   ]
  },
  {
   "cell_type": "code",
   "execution_count": 7,
   "metadata": {},
   "outputs": [
    {
     "name": "stdout",
     "output_type": "stream",
     "text": [
      "[{'job_name': 'HMCTS_IAC/ia-case-notifications-api/master'}, {'job_name': 'HMCTS_IAC/ia-case-notifications-api/master'}, {'job_name': 'HMCTS_IAC/ia-case-notifications-api/master'}, {'job_name': 'HMCTS_IDAM/idam-web-admin/PR-178'}, {'job_name': 'HMCTS_IAC/ia-case-notifications-api/master'}, {'job_name': 'HMCTS_IDAM/idam-web-public/PR-207'}, {'job_name': 'HMCTS_IDAM/idam-web-public/PR-207'}, {'job_name': 'HMCTS_IDAM/idam-web-admin/PR-178'}, {'job_name': 'HMCTS_BSP/send-letter-service/PR-573'}, {'job_name': 'HMCTS_IAC/ia-case-notifications-api/master'}, {'job_name': 'HMCTS_IDAM/idam-web-public/PR-207'}, {'job_name': 'HMCTS_IDAM/idam-web-public/PR-207'}, {'job_name': 'HMCTS_IDAM/idam-web-public/PR-207'}, {'job_name': 'HMCTS_BSP/send-letter-service/PR-573'}, {'job_name': 'HMCTS_IAC/ia-case-notifications-api/master'}, {'job_name': 'HMCTS_IDAM/idam-web-admin/PR-178'}, {'job_name': 'HMCTS_IDAM/idam-web-admin/PR-178'}, {'job_name': 'HMCTS_IDAM/idam-web-public/PR-207'}, {'job_name': 'HMCTS_IDAM/idam-web-admin/PR-178'}, {'job_name': 'HMCTS_IDAM/idam-web-admin/PR-178'}, {'job_name': 'HMCTS_IAC/ia-case-notifications-api/master'}, {'job_name': 'HMCTS_BSP/send-letter-service/PR-573'}, {'job_name': 'HMCTS_BSP/send-letter-service/PR-573'}, {'job_name': 'HMCTS_IAC/ia-case-notifications-api/master'}, {'job_name': 'HMCTS_IAC/ia-case-notifications-api/master'}, {'job_name': 'HMCTS_IAC/ia-case-notifications-api/master'}, {'job_name': 'HMCTS_BSP/send-letter-service/PR-573'}, {'job_name': 'HMCTS_CMC/cmc-citizen-frontend/PR-1909'}]\n"
     ]
    }
   ],
   "source": [
    "quarterHourAgo = (datetime.datetime.now()  - datetime.timedelta(minutes=15)).isoformat()\n",
    "\n",
    "query = {\n",
    "    \"query\": \"\"\"\n",
    "        SELECT c.job_name\n",
    "        FROM c where c.current_build_scheduled_time > '{0}Z'\n",
    "        \"\"\".format(quarterHourAgo)\n",
    "}\n",
    "\n",
    "result = list(client.QueryItems(collection_link, query))\n",
    "\n",
    "print(result)"
   ]
  },
  {
   "cell_type": "code",
   "execution_count": null,
   "metadata": {},
   "outputs": [],
   "source": []
  }
 ],
 "metadata": {
  "kernelspec": {
   "display_name": "Python 3",
   "language": "python",
   "name": "python3"
  },
  "language_info": {
   "codemirror_mode": {
    "name": "ipython",
    "version": 3
   },
   "file_extension": ".py",
   "mimetype": "text/x-python",
   "name": "python",
   "nbconvert_exporter": "python",
   "pygments_lexer": "ipython3",
   "version": "3.7.3"
  }
 },
 "nbformat": 4,
 "nbformat_minor": 4
}
