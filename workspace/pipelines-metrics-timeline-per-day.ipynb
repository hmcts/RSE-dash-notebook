{
 "cells": [
  {
   "cell_type": "markdown",
   "metadata": {},
   "source": [
    "## Failure ratio of master jobs\n",
    "Jobs initiated in a period of one day over the last 90 days"
   ]
  },
  {
   "cell_type": "code",
   "execution_count": 1,
   "metadata": {},
   "outputs": [],
   "source": [
    "%matplotlib inline\n",
    "import sys\n",
    "import os\n",
    "import datetime, calendar\n",
    "import azure.cosmos.cosmos_client as cosmos_client\n",
    "import pandas as pd\n",
    "import matplotlib.pyplot as plt"
   ]
  },
  {
   "cell_type": "code",
   "execution_count": 2,
   "metadata": {},
   "outputs": [],
   "source": [
    "client = cosmos_client.CosmosClient(url_connection=os.environ['endpoint'], auth={'masterKey': os.environ['masterKey']})\n",
    "\n",
    "database_link = 'dbs/' + os.environ['databaseId']\n",
    "collection_link = database_link + '/colls/{}'.format(os.environ['containerId'])"
   ]
  },
  {
   "cell_type": "code",
   "execution_count": 3,
   "metadata": {},
   "outputs": [],
   "source": [
    "today = datetime.date.today()\n",
    "one_day = datetime.timedelta(days=1)\n",
    "one_week = datetime.timedelta(days=7)\n",
    "    \n",
    "# Number of days we want to go back in\n",
    "days_in_past = 90\n",
    "    \n",
    "reversed_last_days = list(\n",
    "    map(\n",
    "        lambda i: (today - (i * one_day)).isoformat(),\n",
    "        range(days_in_past + 1)\n",
    "    )\n",
    ")\n",
    "\n",
    "last_days = reversed_last_days[::-1]\n",
    "\n",
    "first_day, *tail_days = last_days\n",
    "\n",
    "query = {\n",
    "    \"query\": \"\"\"\n",
    "     SELECT c.job_name, c.build_id, c.current_build_current_result, c.stage_timestamp, c._ts\n",
    "     FROM c\n",
    "     WHERE c.current_build_scheduled_time > '{0}00:01:00.000Z'\n",
    "         and c.branch_name = 'master'\n",
    "    \"\"\".format(first_day)\n",
    "}\n",
    "\n",
    "query_results = list(client.QueryItems(collection_link, query))\n",
    "\n",
    "df = pd.DataFrame(query_results)"
   ]
  },
  {
   "cell_type": "code",
   "execution_count": 4,
   "metadata": {},
   "outputs": [],
   "source": [
    "def day_builds(week_df):\n",
    "    return pd.DataFrame(\n",
    "        week_df\n",
    "            .sort_values(by='stage_timestamp')\n",
    "            .drop_duplicates('job_name', keep='last')\n",
    "    )\n",
    "\n",
    "def day_df(frame, day_number):\n",
    "    return frame[\n",
    "        (frame['stage_timestamp'] > last_days[day_number])\n",
    "        & (frame['stage_timestamp'] < last_days[day_number + 1])\n",
    "    ]\n",
    "\n",
    "builds = list(\n",
    "    map(\n",
    "        lambda day_number: day_builds(day_df(df, day_number)),\n",
    "        list(range(len(last_days) - 1))\n",
    "    )\n",
    ")"
   ]
  },
  {
   "cell_type": "code",
   "execution_count": 5,
   "metadata": {},
   "outputs": [],
   "source": [
    "def day_stats(i, current_build):\n",
    "    total_rows = len(current_build)\n",
    "    successes = len(current_build.loc[df['current_build_current_result'] == 'SUCCESS'])\n",
    "    failures = len(current_build.loc[df['current_build_current_result'] == 'FAILURE'])\n",
    "    aborted = len(current_build.loc[df['current_build_current_result'] == 'ABORTED'])\n",
    "    unknows = total_rows - successes - failures - aborted\n",
    "    total = successes + failures + aborted\n",
    "    success_ratio = 100 if total == 0 else round(successes/total * 100)\n",
    "    \n",
    "    return ({\n",
    "        \"success ratio\": success_ratio,\n",
    "        \"stats\": [successes, failures, aborted, unknows],\n",
    "        \"stats_labels\": ['SUCCESS', 'FAILURE', 'ABORTED', 'UNKNOWN'],\n",
    "        \"date\": { \"from\": last_days[i], \"to\" : last_days[i+1] }\n",
    "    })\n",
    "\n",
    "all_days_stats = [day_stats(i,x) for i,x in enumerate(builds)]"
   ]
  },
  {
   "cell_type": "code",
   "execution_count": 6,
   "metadata": {},
   "outputs": [
    {
     "data": {
      "image/png": "[encoded data removed]",
      "text/plain": [
       "<Figure size 720x720 with 1 Axes>"
      ]
     },
     "metadata": {
      "needs_background": "light"
     },
     "output_type": "display_data"
    }
   ],
   "source": [
    "success_ratios = list(\n",
    "    map(\n",
    "        lambda all_days_stats: all_days_stats['success ratio'],\n",
    "        all_days_stats\n",
    "    )\n",
    ")\n",
    "\n",
    "horizontal_axis_labels = list(\n",
    "    map(\n",
    "        lambda all_days_stats: all_days_stats['date']['from'],\n",
    "        all_days_stats\n",
    "    )\n",
    ")\n",
    "\n",
    "fig, ax = plt.subplots()\n",
    "fig.set_size_inches(10, 10)\n",
    "ax.set_title('Success Ratio for master builds initiated in the last {0} days'.format(days_in_past))\n",
    "plt.bar(list(range(days_in_past)), success_ratios, linewidth=2, color='#505AFC', align='edge', width=1)\n",
    "plt.xticks(range(days_in_past), horizontal_axis_labels, rotation='vertical')\n",
    "plt.locator_params(axis='x', nbins=6)\n",
    "plt.ylim(top=100, bottom=0)\n",
    "plt.show()"
   ]
  },
  {
   "cell_type": "code",
   "execution_count": null,
   "metadata": {},
   "outputs": [],
   "source": []
  }
 ],
 "metadata": {
  "kernelspec": {
   "display_name": "Python 3",
   "language": "python",
   "name": "python3"
  },
  "language_info": {
   "codemirror_mode": {
    "name": "ipython",
    "version": 3
   },
   "file_extension": ".py",
   "mimetype": "text/x-python",
   "name": "python",
   "nbconvert_exporter": "python",
   "pygments_lexer": "ipython3",
   "version": "3.7.3"
  }
 },
 "nbformat": 4,
 "nbformat_minor": 4
}
