{
 "cells": [
  {
   "cell_type": "markdown",
   "metadata": {},
   "source": [
    "# Metrics reports\n",
    "\n",
    "- [Pipelines success/failures in the last 24h](pipelines-metrics-last-24h.html)\n",
    "- [Pipelines success/failures in the last 12 weeks](pipelines-metrics-timeline.html)\n",
    "- [Pipelines success/failures in the last 90 days](pipelines-metrics-timeline-last-90-days.html)\n",
    "- [Pipelines success/failures in the last 360 days](pipelines-metrics-timeline-last-360-days.html)"
   ]
  },
  {
   "cell_type": "code",
   "execution_count": null,
   "metadata": {},
   "outputs": [],
   "source": []
  }
 ],
 "metadata": {
  "kernelspec": {
   "display_name": "Python 3",
   "language": "python",
   "name": "python3"
  },
  "language_info": {
   "codemirror_mode": {
    "name": "ipython",
    "version": 3
   },
   "file_extension": ".py",
   "mimetype": "text/x-python",
   "name": "python",
   "nbconvert_exporter": "python",
   "pygments_lexer": "ipython3",
   "version": "3.7.3"
  }
 },
 "nbformat": 4,
 "nbformat_minor": 4
}
