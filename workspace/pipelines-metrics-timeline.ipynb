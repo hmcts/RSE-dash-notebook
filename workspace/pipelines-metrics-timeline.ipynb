{
 "cells": [
  {
   "cell_type": "markdown",
   "metadata": {},
   "source": [
    "## Failure ratio of master jobs\n",
    "Jobs initiated in a period of 1 week over the last 12 weeks"
   ]
  },
  {
   "cell_type": "code",
   "execution_count": 1,
   "metadata": {},
   "outputs": [],
   "source": [
    "%matplotlib inline\n",
    "import sys\n",
    "import os\n",
    "import datetime, calendar\n",
    "import azure.cosmos.cosmos_client as cosmos_client\n",
    "import pandas as pd\n",
    "import matplotlib.pyplot as plt"
   ]
  },
  {
   "cell_type": "code",
   "execution_count": 2,
   "metadata": {},
   "outputs": [],
   "source": [
    "client = cosmos_client.CosmosClient(url_connection=os.environ['endpoint'], auth={'masterKey': os.environ['masterKey']})\n",
    "\n",
    "database_link = 'dbs/' + os.environ['databaseId']\n",
    "collection_link = database_link + '/colls/{}'.format(os.environ['containerId'])"
   ]
  },
  {
   "cell_type": "code",
   "execution_count": 3,
   "metadata": {},
   "outputs": [],
   "source": [
    "last_sunday = datetime.date.today()\n",
    "one_day = datetime.timedelta(days=1)\n",
    "one_week = datetime.timedelta(days=7)\n",
    "\n",
    "while last_sunday.weekday() != calendar.SUNDAY:\n",
    "    last_sunday -= one_day\n",
    "    \n",
    "# Number of weeks we want to go back in\n",
    "weeks_in_past = 12\n",
    "    \n",
    "reversed_sundays = list(\n",
    "    map(\n",
    "        lambda week: (last_sunday - (week * one_week)).isoformat(),\n",
    "        range(weeks_in_past + 1)\n",
    "    )\n",
    ")\n",
    "\n",
    "sundays = reversed_sundays[::-1]\n",
    "\n",
    "sundays\n",
    "\n",
    "first_sunday, *tail_sundays = sundays\n",
    "\n",
    "query = {\n",
    "    \"query\": \"\"\"\n",
    "     SELECT c.job_name, c.build_id, c.current_build_current_result, c.stage_timestamp, c._ts\n",
    "     FROM c\n",
    "     WHERE c.current_build_scheduled_time > '{0}Z'\n",
    "         and c.branch_name = 'master'\n",
    "    \"\"\".format(first_sunday)\n",
    "}\n",
    "\n",
    "query_results = list(client.QueryItems(collection_link, query))\n",
    "\n",
    "df = pd.DataFrame(query_results)"
   ]
  },
  {
   "cell_type": "code",
   "execution_count": 5,
   "metadata": {},
   "outputs": [],
   "source": [
    "def week_builds(week_df):\n",
    "    return pd.DataFrame(\n",
    "        week_df\n",
    "            .sort_values(by='stage_timestamp')\n",
    "            .drop_duplicates('job_name', keep='last')\n",
    "    )\n",
    "\n",
    "def week_df(frame, week_number):\n",
    "    return frame[\n",
    "        (frame['stage_timestamp'] > sundays[week_number])\n",
    "        & (frame['stage_timestamp'] < sundays[week_number + 1])\n",
    "    ]\n",
    "\n",
    "builds = list(\n",
    "    map(\n",
    "        lambda week_number: week_builds(week_df(df, week_number)),\n",
    "        range(weeks_in_past)\n",
    "    )\n",
    ")"
   ]
  },
  {
   "cell_type": "code",
   "execution_count": 6,
   "metadata": {},
   "outputs": [],
   "source": [
    "def week_stats(current_build):\n",
    "    total_rows = len(current_build)\n",
    "    successes = len(current_build.loc[df['current_build_current_result'] == 'SUCCESS'])\n",
    "    failures = len(current_build.loc[df['current_build_current_result'] == 'FAILURE'])\n",
    "    aborted = len(current_build.loc[df['current_build_current_result'] == 'ABORTED'])\n",
    "    unknows = total_rows - successes - failures - aborted\n",
    "    success_ratio = round(successes/(successes + failures + aborted) * 100)\n",
    "    return ({\n",
    "        \"success ratio\": success_ratio,\n",
    "        \"stats\": [successes, failures, aborted, unknows],\n",
    "        \"stats_labels\": ['SUCCESS', 'FAILURE', 'ABORTED', 'UNKNOWN'],\n",
    "    })\n",
    "\n",
    "\n",
    "\n",
    "week_stats(builds[0])\n",
    "\n",
    "all_weeks_stats = list(\n",
    "    map(\n",
    "        lambda week_builds: week_stats(week_builds),\n",
    "        builds\n",
    "    )\n",
    ")"
   ]
  },
  {
   "cell_type": "code",
   "execution_count": 12,
   "metadata": {},
   "outputs": [
    {
     "data": {
      "image/png": "[encoded data removed]",
      "text/plain": [
       "<Figure size 720x720 with 1 Axes>"
      ]
     },
     "metadata": {
      "needs_background": "light"
     },
     "output_type": "display_data"
    }
   ],
   "source": [
    "success_ratios = list(\n",
    "    map(\n",
    "        lambda all_weeks_stats: all_weeks_stats['success ratio'],\n",
    "        all_weeks_stats\n",
    "    )\n",
    ")\n",
    "\n",
    "fig, ax = plt.subplots()\n",
    "fig.set_size_inches(10, 10)\n",
    "ax.set_title('Success Ratio for master builds initiated in the last {0} weeks'.format(weeks_in_past))\n",
    "plt.plot(list(range(weeks_in_past)), success_ratios, linewidth=2)\n",
    "plt.xticks(range(weeks_in_past), sundays, rotation='vertical')\n",
    "plt.ylim(top=100, bottom=0)\n",
    "plt.show()"
   ]
  },
  {
   "cell_type": "code",
   "execution_count": null,
   "metadata": {},
   "outputs": [],
   "source": []
  }
 ],
 "metadata": {
  "kernelspec": {
   "display_name": "Python 3",
   "language": "python",
   "name": "python3"
  },
  "language_info": {
   "codemirror_mode": {
    "name": "ipython",
    "version": 3
   },
   "file_extension": ".py",
   "mimetype": "text/x-python",
   "name": "python",
   "nbconvert_exporter": "python",
   "pygments_lexer": "ipython3",
   "version": "3.7.3"
  }
 },
 "nbformat": 4,
 "nbformat_minor": 4
}
