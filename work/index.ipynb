{
 "cells": [
  {
   "cell_type": "markdown",
   "metadata": {},
   "source": [
    "# Metrics reports\n",
    "\n",
    "## CI\n",
    "\n",
    "- [CI failures heatmap](CI/heatmap.html)\n",
    "- [CI status in the last 14 days on an hour granularity](CI/timeline-last-14-days-hour-slot.html)\n",
    "- [CI status in the last 90 days](CI/timeline-last-90-days.html)\n",
    "- [CI status in the last 360 days](CI/timeline-last-360-days.html)"
   ]
  },
  {
   "cell_type": "code",
   "execution_count": null,
   "metadata": {},
   "outputs": [],
   "source": []
  }
 ],
 "metadata": {
  "kernelspec": {
   "display_name": "Python 3",
   "language": "python",
   "name": "python3"
  },
  "language_info": {
   "codemirror_mode": {
    "name": "ipython",
    "version": 3
   },
   "file_extension": ".py",
   "mimetype": "text/x-python",
   "name": "python",
   "nbconvert_exporter": "python",
   "pygments_lexer": "ipython3",
   "version": "3.7.3"
  }
 },
 "nbformat": 4,
 "nbformat_minor": 4
}
