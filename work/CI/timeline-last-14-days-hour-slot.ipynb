{
 "cells": [
  {
   "cell_type": "markdown",
   "metadata": {},
   "source": [
    "## Failure ratio of master jobs\n",
    "Jobs initiated in an interval of one hour over the last 14 days"
   ]
  },
  {
   "cell_type": "code",
   "execution_count": 1,
   "metadata": {},
   "outputs": [],
   "source": [
    "%matplotlib inline\n",
    "import sys\n",
    "import os\n",
    "import datetime, calendar\n",
    "import azure.cosmos.cosmos_client as cosmos_client\n",
    "import pandas as pd\n",
    "import matplotlib.pyplot as plt"
   ]
  },
  {
   "cell_type": "code",
   "execution_count": 2,
   "metadata": {},
   "outputs": [],
   "source": [
    "client = cosmos_client.CosmosClient(url_connection=os.environ['endpoint'], auth={'masterKey': os.environ['masterKey']})\n",
    "\n",
    "database_link = 'dbs/' + os.environ['databaseId']\n",
    "collection_link = database_link + '/colls/{}'.format(os.environ['containerId'])"
   ]
  },
  {
   "cell_type": "code",
   "execution_count": 23,
   "metadata": {},
   "outputs": [],
   "source": [
    "from datetime import datetime, timedelta\n",
    "now = datetime.now()\n",
    "one_min = timedelta(minutes=5)\n",
    "    \n",
    "# Number of min we want to go back in\n",
    "mins_in_past = 24 * 6 * 2\n",
    "    \n",
    "reversed_last_mins = list(\n",
    "    map(\n",
    "        lambda i: (now - (i * one_min)).isoformat(),\n",
    "        range(mins_in_past + 1)\n",
    "    )\n",
    ")\n",
    "\n",
    "last_mins = reversed_last_mins[::-1]\n",
    "\n",
    "first_min, *tail_mins = last_mins\n",
    "\n",
    "query = {\n",
    "    \"query\": \"\"\"\n",
    "     SELECT c.job_name, c.build_id, c.current_build_current_result, c.stage_timestamp, c._ts\n",
    "     FROM c\n",
    "     WHERE c.current_build_scheduled_time > '{0}Z'\n",
    "         and c.branch_name = 'master'\n",
    "    \"\"\".format(first_min)\n",
    "}\n",
    "\n",
    "query_results = list(client.QueryItems(collection_link, query))\n",
    "\n",
    "df = pd.DataFrame(query_results)"
   ]
  },
  {
   "cell_type": "code",
   "execution_count": 24,
   "metadata": {},
   "outputs": [],
   "source": [
    "def min_builds(min_df):\n",
    "    return pd.DataFrame(\n",
    "        min_df\n",
    "            .sort_values(by='stage_timestamp')\n",
    "            .drop_duplicates('job_name', keep='last')\n",
    "    )\n",
    "\n",
    "def min_df(frame, min_number):\n",
    "    return frame[\n",
    "        (frame['stage_timestamp'] > last_mins[min_number])\n",
    "        & (frame['stage_timestamp'] < last_mins[min_number + 1])\n",
    "    ]\n",
    "\n",
    "builds = list(\n",
    "    map(\n",
    "        lambda min_number: min_builds(min_df(df, min_number)),\n",
    "        list(range(len(last_mins) - 1))\n",
    "    )\n",
    ")"
   ]
  },
  {
   "cell_type": "code",
   "execution_count": 25,
   "metadata": {},
   "outputs": [],
   "source": [
    "def min_stats(i, current_build):\n",
    "    total_rows = len(current_build)\n",
    "    successes = len(current_build.loc[df['current_build_current_result'] == 'SUCCESS'])\n",
    "    failures = len(current_build.loc[df['current_build_current_result'] == 'FAILURE'])\n",
    "    aborted = len(current_build.loc[df['current_build_current_result'] == 'ABORTED'])\n",
    "    unknows = total_rows - successes - failures - aborted\n",
    "    total = successes + failures + aborted\n",
    "    success_ratio = 100 if total == 0 else round(successes/total * 100)\n",
    "    \n",
    "    return ({\n",
    "        \"success ratio\": success_ratio,\n",
    "        \"stats\": [successes, failures, aborted, unknows],\n",
    "        \"stats_labels\": ['SUCCESS', 'FAILURE', 'ABORTED', 'UNKNOWN'],\n",
    "        \"date\": { \"from\": last_mins[i], \"to\" : last_mins[i+1] }\n",
    "    })\n",
    "\n",
    "all_mins_stats = [min_stats(i,x) for i,x in enumerate(builds)]"
   ]
  },
  {
   "cell_type": "code",
   "execution_count": 26,
   "metadata": {},
   "outputs": [
    {
     "data": {
      "image/png": "[encoded data removed]",
      "text/plain": [
       "<Figure size 1440x288 with 1 Axes>"
      ]
     },
     "metadata": {
      "needs_background": "light"
     },
     "output_type": "display_data"
    }
   ],
   "source": [
    "colors = {\n",
    "    'aborted': '#FF8C11',\n",
    "    'failures': '#E55934',\n",
    "    'successes': '#7CCE77',\n",
    "}\n",
    "\n",
    "horizontal_axis_labels = list(\n",
    "    map(\n",
    "        lambda all_mins_stats: datetime.fromisoformat(all_mins_stats['date']['from']).strftime('%d/%m %H:%M:%S'), \n",
    "        all_mins_stats\n",
    "    )\n",
    ")\n",
    "\n",
    "data = {\n",
    "    'successes': [0 if sum(item['stats']) == 0 else item['stats'][0] for item in all_mins_stats],\n",
    "    'failures':  [0 if sum(item['stats']) == 0 else item['stats'][1] for item in all_mins_stats],\n",
    "    'aborted':   [0 if sum(item['stats']) == 0 else item['stats'][2] for item in all_mins_stats],\n",
    "}\n",
    "\n",
    "fig, ax = plt.subplots()\n",
    "fig.set_size_inches(20, 4)\n",
    "\n",
    "ax.set_title('Cumulative jobs statuses')\n",
    "ax.margins(0)\n",
    "\n",
    "p_aborted = plt.bar(list(range(mins_in_past)), data['aborted'], linewidth=2, color=colors['aborted'], align='edge', width=1)\n",
    "p_failures = plt.bar(list(range(mins_in_past)), data['failures'], linewidth=2, color=colors['failures'], align='edge', width=1, bottom=[data['aborted'][j] for j in range(len(data['successes']))])\n",
    "p_success = plt.bar(list(range(mins_in_past)), data['successes'], linewidth=2, color=colors['successes'], align='edge', width=1, bottom=[data['failures'][j] + data['aborted'][j] for j in range(len(data['successes']))])\n",
    "plt.xticks(range(mins_in_past), horizontal_axis_labels, rotation='vertical')\n",
    "plt.legend((p_success[0], p_failures[0], p_aborted[0]), ('successes', 'failures', 'aborted'))\n",
    "\n",
    "every_nth = 60\n",
    "for n, label in enumerate(ax.xaxis.get_ticklabels()):\n",
    "    if n % every_nth != 0:\n",
    "        label.set_visible(False)\n",
    "        \n",
    "plt.show()"
   ]
  },
  {
   "cell_type": "code",
   "execution_count": 27,
   "metadata": {},
   "outputs": [
    {
     "data": {
      "image/png": "[encoded data removed]",
      "text/plain": [
       "<Figure size 1440x288 with 1 Axes>"
      ]
     },
     "metadata": {
      "needs_background": "light"
     },
     "output_type": "display_data"
    }
   ],
   "source": [
    "data_ratio = {\n",
    "    'successes': [0 if sum(item['stats']) == 0 else (item['stats'][0]/sum(item['stats'])) for item in all_mins_stats],\n",
    "    'failures':  [0 if sum(item['stats']) == 0 else (item['stats'][1]/sum(item['stats'])) for item in all_mins_stats],\n",
    "    'aborted':   [0 if sum(item['stats']) == 0 else (item['stats'][2]/sum(item['stats'])) for item in all_mins_stats],\n",
    "}\n",
    "\n",
    "fig, ax = plt.subplots()\n",
    "fig.set_size_inches(20, 4)\n",
    "\n",
    "ax.set_title('Proportional jobs statuses')\n",
    "ax.margins(0)\n",
    "\n",
    "p_aborted = plt.bar(list(range(mins_in_past)), data_ratio['aborted'], linewidth=2, color=colors['aborted'], align='edge', width=1)\n",
    "p_failures = plt.bar(list(range(mins_in_past)), data_ratio['failures'], linewidth=2, color=colors['failures'], align='edge', width=1, bottom=[data_ratio['aborted'][j] for j in range(len(data_ratio['successes']))])\n",
    "p_success = plt.bar(list(range(mins_in_past)), data_ratio['successes'], linewidth=2, color=colors['successes'], align='edge', width=1, bottom=[data_ratio['failures'][j] + data_ratio['aborted'][j] for j in range(len(data_ratio['successes']))])\n",
    "plt.xticks(range(mins_in_past), horizontal_axis_labels, rotation='vertical')\n",
    "plt.legend((p_success[0], p_failures[0], p_aborted[0]), ('successes', 'failures', 'aborted'))\n",
    "\n",
    "every_nth = 60\n",
    "for n, label in enumerate(ax.xaxis.get_ticklabels()):\n",
    "    if n % every_nth != 0:\n",
    "        label.set_visible(False)\n",
    "        \n",
    "plt.show()"
   ]
  },
  {
   "cell_type": "code",
   "execution_count": null,
   "metadata": {},
   "outputs": [],
   "source": []
  }
 ],
 "metadata": {
  "kernelspec": {
   "display_name": "Python 3",
   "language": "python",
   "name": "python3"
  },
  "language_info": {
   "codemirror_mode": {
    "name": "ipython",
    "version": 3
   },
   "file_extension": ".py",
   "mimetype": "text/x-python",
   "name": "python",
   "nbconvert_exporter": "python",
   "pygments_lexer": "ipython3",
   "version": "3.7.3"
  }
 },
 "nbformat": 4,
 "nbformat_minor": 4
}
